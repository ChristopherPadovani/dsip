{
 "cells": [
  {
   "cell_type": "markdown",
   "metadata": {},
   "source": [
    "# Data Science in Practice 2020\n",
    "\n",
    "*MGT-415*\n",
    "\n",
    "## Project\n",
    "\n",
    "### Descriptive report\n",
    "\n",
    "Authors :\n",
    "- Rayan Chaouche\n",
    "- Yann Martinson\n",
    "- Christopher Padovani\n",
    "- Jules Triomphe\n",
    "\n",
    "## Summary\n",
    "\n",
    "Multiple jupyter notebooks were used to complete this project. They are available below :\n",
    "\n",
    "[The code to create the new data-set (DS1)](./00_Create_Datasets.ipynb)\n",
    "\n",
    "[The network analysis](./Network/disease_target_network.ipynb)\n",
    "\n",
    "[The grid search algorithm](./01_Grid_Search.ipynb)\n",
    "\n",
    "[The random search algorithm](./02_Random_Search.ipynb)"
   ]
  }
 ],
 "metadata": {
  "kernelspec": {
   "display_name": "Python 3",
   "language": "python",
   "name": "python3"
  },
  "language_info": {
   "codemirror_mode": {
    "name": "ipython",
    "version": 3
   },
   "file_extension": ".py",
   "mimetype": "text/x-python",
   "name": "python",
   "nbconvert_exporter": "python",
   "pygments_lexer": "ipython3",
   "version": "3.7.6"
  }
 },
 "nbformat": 4,
 "nbformat_minor": 4
}
